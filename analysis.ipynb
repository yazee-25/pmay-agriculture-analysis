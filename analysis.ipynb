{
 "cells": [
  {
   "cell_type": "markdown",
   "metadata": {},
   "source": [
    "# PMAY & Agricultural Production Data Analysis\n",
    "## Overview\n",
    "This notebook analyses PMAY housing progress and agricultural production across Indian states using open data from data.gov.in."
   ]
  },
  {
   "cell_type": "code",
   "execution_count": null,
   "metadata": {},
   "outputs": [],
   "source": [
    "import pandas as pd\n",
    "import matplotlib.pyplot as plt\n",
    "import seaborn as sns\n",
    "import numpy as np\n",
    "from IPython.display import Image, display\n",
    "display(Image('output_visuals/pmay_bar_chart.png'))\n",
    "display(Image('output_visuals/agri_trend_line.png'))\n",
    "display(Image('output_visuals/correlation_heatmap.png'))"
   ]
  }
 ],
 "metadata": {
  "kernelspec": {
   "display_name": "Python 3",
   "language": "python",
   "name": "python3"
  },
  "language_info": {
   "name": "python",
   "version": "3.10"
  }
 },
 "nbformat": 4,
 "nbformat_minor": 5
}
